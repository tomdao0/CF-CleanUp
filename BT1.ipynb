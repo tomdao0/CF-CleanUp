{
 "cells": [
  {
   "cell_type": "code",
   "execution_count": null,
   "id": "e19824b5-6c8e-45e4-a9ed-44595dccb72a",
   "metadata": {},
   "outputs": [],
   "source": [
    "#B1.\n",
    "def print_name(name, x):\n",
    "    print(name*x)\n",
    "print_name('Thinh',5)"
   ]
  },
  {
   "cell_type": "code",
   "execution_count": null,
   "id": "98069fcc-9885-4158-9b43-0767de8f9e42",
   "metadata": {
    "scrolled": true
   },
   "outputs": [],
   "source": [
    "#B2.\n",
    "for i in range(2,10):\n",
    "    for j in range(1,11):\n",
    "        print(i, ' x ', j, ' = ', i*j)"
   ]
  },
  {
   "cell_type": "code",
   "execution_count": null,
   "id": "11b4ffcd-7fb0-49db-afab-7324e2b5e8ae",
   "metadata": {},
   "outputs": [],
   "source": [
    "#b3\n",
    "def my_func(x):\n",
    "    for i in range(1,11):\n",
    "        print(x, ' x ', i, ' = ', x*i)\n",
    "my_func(10)"
   ]
  },
  {
   "cell_type": "code",
   "execution_count": null,
   "id": "826004d2-29f5-494a-845d-93c582d0968d",
   "metadata": {},
   "outputs": [],
   "source": [
    "#B4\n",
    "import sys\n",
    "sys.set_int_max_str_digits(0)\n",
    "def f(n):\n",
    "    l = [1,2,3]\n",
    "    if n > 3:\n",
    "        for i in range (3,n):\n",
    "            l.append(l[-1]*l[-2]*l[-3])\n",
    "    print(l)\n",
    "f(20)"
   ]
  }
 ],
 "metadata": {
  "kernelspec": {
   "display_name": "Python 3 (ipykernel)",
   "language": "python",
   "name": "python3"
  },
  "language_info": {
   "codemirror_mode": {
    "name": "ipython",
    "version": 3
   },
   "file_extension": ".py",
   "mimetype": "text/x-python",
   "name": "python",
   "nbconvert_exporter": "python",
   "pygments_lexer": "ipython3",
   "version": "3.10.9"
  }
 },
 "nbformat": 4,
 "nbformat_minor": 5
}
