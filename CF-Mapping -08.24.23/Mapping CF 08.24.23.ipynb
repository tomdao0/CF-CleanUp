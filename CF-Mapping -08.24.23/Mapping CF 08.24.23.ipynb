{
 "cells": [
  {
   "cell_type": "code",
   "execution_count": 89,
   "id": "20b991fb-b8d3-4fed-93fc-1ff70d18cbb5",
   "metadata": {},
   "outputs": [],
   "source": [
    "import pandas as pd\n",
    "import re\n",
    "sf = pd.read_excel('Tab 1 - populate Opportunity Product for 157 records.xlsx',sheet_name='in')\n",
    "cch = pd.read_csv('CCH_ENT_Client_Sorted.csv')\n",
    "sf =sf.fillna('')\n",
    "cch = cch.fillna('')\n",
    "sf['the_key'] = sf['Opp.Legal_Entity'].apply(lambda x: re.sub(r'[^a-zA-Z]', '', x)).str.lower()\n",
    "cch['the_key'] = cch['ClientSortName'].apply(lambda x: re.sub(r'[^a-zA-Z]', '', x)).str.lower()\n",
    "sf = sf.astype(str)\n",
    "cch = cch.astype(str)\n",
    "sf = sf.reset_index()\n",
    "D = {}\n",
    "for row in sf.index:\n",
    "    D[sf.at[row,'index']] = []\n",
    "    cch_name = cch[(cch['the_key'] == sf.at[row,'the_key'])]\n",
    "    cch_id = cch[(cch['ClientIdSubId'] == sf.at[row,'Opp.PracticeCode'])]\n",
    "    if len(cch_name) > 0:\n",
    "        temp = 0\n",
    "        for rowi in cch_name.index:\n",
    "            temp = temp + 1\n",
    "            if cch_name.at[rowi,'ClientIdSubId'] == sf.at[row,'Opp.PracticeCode']:\n",
    "                D[sf.at[row,'index']].append(cch_name.at[rowi,'ClientIdSubId']) #ClientId\n",
    "                D[sf.at[row,'index']].append(cch_name.at[rowi,'ClientSortName'])#ClientSortName\n",
    "                D[sf.at[row,'index']].append('NO')\n",
    "                break\n",
    "            elif (len(D[sf.at[row,'index']]) == 0) and temp == len(cch_name):\n",
    "                D[sf.at[row,'index']].append('Not Found in CCH') #ClientId\n",
    "                D[sf.at[row,'index']].append(cch_name.at[rowi,'ClientSortName'])#ClientSortName\n",
    "                D[sf.at[row,'index']].append('YES')\n",
    "    elif len(cch_id) > 0:\n",
    "        D[sf.at[row,'index']].append(sf.at[row,'Opp.PracticeCode']) #ClientId\n",
    "        D[sf.at[row,'index']].append('Not Found in CCH') #ClientSortName\n",
    "        D[sf.at[row,'index']].append('NO')\n",
    "    elif len(cch_id) == 0 and len(cch_name) == 0:\n",
    "        D[sf.at[row,'index']].append('Not Found in CCH') #ClientId\n",
    "        D[sf.at[row,'index']].append('Not Found in CCH') #ClientSortName\n",
    "        D[sf.at[row,'index']].append('EXCEPTION')\n",
    "\n",
    "Result = pd.DataFrame.from_dict(D, orient='index')  \n",
    "Result.reset_index(inplace=True)\n",
    "Result.rename(columns={0: 'CCH.ClientIdSubId', 1: 'CCH.ClientSortName', 2: 'Status', 'index': 'Match.index'}, inplace=True)\n",
    "result_last = pd.merge(sf, Result, how='left', left_on='index', right_on='Match.index')\n",
    "result_last = result_last.drop(columns=['index','Match.index','the_key'], axis=1)\n",
    "result_last.head()\n",
    "result_last.to_csv('Mapping 08.24.23.csv', index=False)"
   ]
  },
  {
   "cell_type": "code",
   "execution_count": 45,
   "id": "5ec438cd-3b70-431a-84d0-9168c7359b13",
   "metadata": {},
   "outputs": [
    {
     "data": {
      "text/plain": [
       "0"
      ]
     },
     "execution_count": 45,
     "metadata": {},
     "output_type": "execute_result"
    }
   ],
   "source": [
    "d =[]\n",
    "len(d)"
   ]
  },
  {
   "cell_type": "code",
   "execution_count": 73,
   "id": "f4823177-2fcf-4f5d-a03d-954b833c6cfc",
   "metadata": {},
   "outputs": [
    {
     "data": {
      "text/plain": [
       "0"
      ]
     },
     "execution_count": 73,
     "metadata": {},
     "output_type": "execute_result"
    }
   ],
   "source": [
    "d ={}\n",
    "d[1]=[]\n",
    "len(d[1])"
   ]
  },
  {
   "cell_type": "code",
   "execution_count": null,
   "id": "44884cd7-1ca7-432d-b3b7-dd4adad1ce51",
   "metadata": {},
   "outputs": [],
   "source": []
  }
 ],
 "metadata": {
  "kernelspec": {
   "display_name": "Python 3 (ipykernel)",
   "language": "python",
   "name": "python3"
  },
  "language_info": {
   "codemirror_mode": {
    "name": "ipython",
    "version": 3
   },
   "file_extension": ".py",
   "mimetype": "text/x-python",
   "name": "python",
   "nbconvert_exporter": "python",
   "pygments_lexer": "ipython3",
   "version": "3.10.9"
  }
 },
 "nbformat": 4,
 "nbformat_minor": 5
}
