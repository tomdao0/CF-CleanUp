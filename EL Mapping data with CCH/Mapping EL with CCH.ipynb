{
 "cells": [
  {
   "cell_type": "code",
   "execution_count": 4,
   "id": "5faa4fa2",
   "metadata": {
    "scrolled": true
   },
   "outputs": [
    {
     "name": "stderr",
     "output_type": "stream",
     "text": [
      "C:\\Users\\tomda\\AppData\\Local\\Temp\\ipykernel_30512\\3526241673.py:13: UserWarning: pandas only supports SQLAlchemy connectable (engine/connection) or database string URI or sqlite3 DBAPI2 connection. Other DBAPI2 objects are not tested. Please consider using SQLAlchemy.\n",
      "  sql = pd.read_sql_query(query, connection)\n"
     ]
    }
   ],
   "source": [
    "from glob import glob\n",
    "import pyodbc\n",
    "import re\n",
    "import pandas as pd\n",
    "#database\n",
    "server = 'TOM'\n",
    "database = 'CCH_HSC_08.22.23'\n",
    "username = 'TOM'\n",
    "password = 'Silversea2022@'\n",
    "connection_string = f\"DRIVER=ODBC Driver 17 for SQL Server;SERVER={server};DATABASE={database};UID={username};PWD={password}\"\n",
    "connection = pyodbc.connect(connection_string)\n",
    "query = \" select ClientIdSubId , ClientId AS [Client #] , ClientGroupName [Client Group], ClientSortName [Client Name], CONCAT_WS(' ', AddressLine1, AddressLine2, AddressLine3) Address ,CityName [City] ,StateProvinceCode [State] ,PostalCode [ZipCode] ,IIF(LEN(C.FiscalPeriod) = 0 or C.FiscalPeriod is null, null, LEFT(C.FiscalPeriod,2)) [Year End] ,[Eng Ltr Fees if Included] AS [Eng Ltr Fees if Inlcluded] ,[Tax Engagement Letter Type] AS [Tax Eng Ltr Type] ,[States/Localities] AS [States/Localities] ,[Changes in States/Localities] AS [Changes in States/Localities] ,[AA Engagement Letter Type] AS [AA Eng Ltr Type] ,[AA Financial Framework (FF)] AS [AA Financial Framework (FF)] ,[AA Departure from FF?] AS [AA Departure from FF?] ,[AA Not Independent?] AS [AA Not Independent?] ,[Eng Ltr Contact] AS [Eng Ltr Contact] ,[Eng Ltr Contact Email] AS [Eng Ltr Contact Email] ,[OS Client] AS [OS Client] ,[CAL Contact] AS [CAL Contact] ,[CAL Contact Email] AS [CAL Contact Email] ,[CAL Contact 2] AS [CAL Contact 2] ,[CAL Contact Email 2] AS [CAL Contact Email 2] ,[Depreciation Schedule Sent w/ CAL?] AS [Depreciation Schedule Sent w/ CAL?] ,[Notes/Comments] AS [Other Comments, Changes, etc.] ,StaffName AS [Primary] from CLIENT C LEFT JOIN ( \tselect ClientIdent, ClientGroupName from CLIENTGROUP \twhere FinancialReportingGroupFlag = 't' ) CG ON CG.ClientIdent = C.ClientIdent LEFT JOIN ( \tselect ReferenceIdent \t, IIF(AddressLine1='', null, AddressLine1) AddressLine1 \t, IIF(AddressLine2='', null, AddressLine2) AddressLine2 \t, IIF(AddressLine3='', null, AddressLine3) AddressLine3 \t, IIF(CityName='', null, CityName) CityName \t, IIF(StateProvinceCode='', null, StateProvinceCode) StateProvinceCode \t, IIF(PostalCode='', null, PostalCode) PostalCode \tfrom CLIENTADDRESS \tWHERE PrimaryAddressFlag = 't' \tand ReferenceIdentType = 'ClientIntID' ) CA ON CA.ReferenceIdent  = C.ClientIdent LEFT JOIN ( \tselect * from CLIENTPHONE \tWHERE PrimaryPhoneFlag = 't' \tand ReferenceIdentType = 'ClientIntID' \tand PhoneNumber <> '' ) CP ON CP.ReferenceIdent  = C.ClientIdent LEFT JOIN ( \tselect * from CLIENTEMAIL \tWHERE PrimaryEmailAddressFlag = 't' \tand ReferenceIdentType = 'ClientIntID' \tand EmailAddress <> '' ) CE ON CE.ReferenceIdent  = C.ClientIdent LEFT JOIN ( select * FROM ( \tselect ClientIdent, IIF(ClientCustomFieldValueDescription='',null,ClientCustomFieldValueDescription) ClientCustomFieldValueDescription,FirmCustomFieldLabel FROM CLIENTCUSTOMFIELD \t) T1 \tPIVOT \t( \tMAX(ClientCustomFieldValueDescription) FOR FirmCustomFieldLabel \tIN ( [SIC], [Industry Team], [test], [Eng Ltr Contact Email], [County], [CAL Contact 2], [OS Client], [Eng Ltr Fees if Included], [CAL Contact], [CAL Contact Email 2], [Referred by], [Prior_NAICS], [AA Not Independent?], [Top Ten], [AA Financial Framework (FF)], [CAL Contact Email], [Tax Engagement Letter Type], [AA Engagement Letter Type], [Notes/Comments], [Annual Revenue], [Eng Ltr Contact], [AA Departure from FF?], [States/Localities], [OS Engagement Type], [# of Employees Here], [Industry SIC Code], [Changes in States/Localities], [Depreciation Schedule Sent w/ CAL?], [Number of Employees], [Prior_Entity], [Plan Name (EB Audit Eng Only)], [Custodian (EB Audit Eng Only)], [Referral Source], [Trade Name], [Client Sales]) ) PV1 ) CC ON CC.ClientIdent = C.ClientIdent LEFT JOIN ( SELECT ClientIdent, StaffName FROM CLIENTCRS LEFT JOIN STAFF S ON S.StaffIdent = CLIENTCRS.StaffIdent WHERE FirmClientStaffAssignmentName = 'Primary' ) CRS ON CRS.ClientIdent = C.ClientIdent \"\n",
    "sql = pd.read_sql_query(query, connection)\n",
    "def convert_float_to_int_string(value):\n",
    "    if isinstance(value, float):\n",
    "        int_value = int(value)\n",
    "        if value == int_value:\n",
    "            return str(int_value)\n",
    "    return str(value)\n",
    "\n",
    "\n",
    "#data from excel\n",
    "paths = sorted(glob(r'./New Data/*.xlsm'))\n",
    "li = []\n",
    "for path in paths:\n",
    "    df = pd.read_excel(path)\n",
    "    df['Source'] = path.split('\\\\')[1]\n",
    "    li.append(df)\n",
    "    df = pd.concat(li, ignore_index=True, axis=0)\n",
    "df['Client #'] = df['Client #'].astype(str)\n",
    "sql['Client #'] = sql['Client #'].astype(str)\n",
    "sql['Client #'] = sql['Client #'].astype(str)\n",
    "sql['Depreciation Schedule Sent w/ CAL?'] = sql['Depreciation Schedule Sent w/ CAL?'].replace('None','',inplace=True)\n",
    "connection.close()\n",
    "#replace none or nan ''\n",
    "for column in df.columns:\n",
    "    df[column].fillna('', inplace=True)\n",
    "for column in sql.columns:\n",
    "    sql[column].fillna('', inplace=True)\n",
    "\n",
    "sql['Year End'] = sql['Year End'].apply(convert_float_to_int_string)\n",
    "df['Year End'] = df['Year End'].apply(convert_float_to_int_string)\n",
    "sql = sql.astype(str)\n",
    "df = df.astype(str)\n",
    "new_column_names = ['SQL_' + col for col in sql.columns]\n",
    "sql.rename(columns=dict(zip(sql.columns, new_column_names)), inplace=True)\n",
    "\n",
    "list_column_mapping_excel = ['Client Group', 'Client Name', 'Address', 'City', 'State',\n",
    "       'ZipCode', 'Year End', 'Eng Ltr Fees if Inlcluded', 'Tax Eng Ltr Type',\n",
    "       'States/Localities', 'Changes in States/Localities', 'AA Eng Ltr Type',\n",
    "       'AA Financial Framework (FF)', 'AA Departure from FF?',\n",
    "       'AA Not Independent?', 'Eng Ltr Contact', 'Eng Ltr Contact Email',\n",
    "       'OS Client', 'CAL Contact', 'CAL Contact Email', 'CAL Contact 2',\n",
    "       'CAL Contact Email 2', 'Depreciation Schedule Sent w/ CAL?',\n",
    "       'Other Comments, Changes, etc.', 'Primary']\n",
    "result = pd.merge(df, sql, how='left', left_on='Client #', right_on='SQL_Client #')\n",
    "result = result.reset_index()\n",
    "\n",
    "\n",
    "\n",
    "D= {}\n",
    "for i in result.index:\n",
    "    D[result.at[i,'index']] = []\n",
    "    for j in list_column_mapping_excel:\n",
    "        col_sql = 'SQL_' + j\n",
    "        value_j = re.sub(r'[^a-zA-Z0-9]', '', str(result.at[i, j]).strip().lower())\n",
    "        value_col_sql = re.sub(r'[^a-zA-Z0-9]', '', str(result.at[i, col_sql]).strip().lower())\n",
    "        if value_j == value_col_sql:\n",
    "#         if str(result.at[i,j]).strip().lower() == str(result.at[i,col_sql]).strip().lower():\n",
    "            D[result.at[i,'index']].append('')\n",
    "        else:\n",
    "            D[result.at[i,'index']].append(j)\n",
    "mapping = pd.DataFrame.from_dict(D, orient='index')\n",
    "mapping.reset_index(inplace=True)\n",
    "old_cols_name = list(range(25))\n",
    "new_cols_name = [\"Status \" + column for column in list_column_mapping_excel]\n",
    "mapping.rename(columns=dict(zip(old_cols_name, new_cols_name)), inplace=True)\n",
    "mapping\n",
    "result_last = pd.merge(result, mapping, how='left', left_on='index', right_on='index')\n",
    "list_column = ['Source','Client #', 'SQL_ClientIdSubId']\n",
    "for k in list_column_mapping_excel:\n",
    "    list_column.append(k)\n",
    "    list_column.append('SQL_' + k)\n",
    "for h in list_column_mapping_excel:\n",
    "    list_column.append('Status ' + h)\n",
    "result_last = result_last[list_column]\n",
    "result_last.to_csv('result_last.csv')"
   ]
  },
  {
   "cell_type": "code",
   "execution_count": 98,
   "id": "5f583406",
   "metadata": {},
   "outputs": [],
   "source": []
  },
  {
   "cell_type": "code",
   "execution_count": null,
   "id": "08b737ab",
   "metadata": {},
   "outputs": [],
   "source": []
  }
 ],
 "metadata": {
  "kernelspec": {
   "display_name": "Python 3 (ipykernel)",
   "language": "python",
   "name": "python3"
  },
  "language_info": {
   "codemirror_mode": {
    "name": "ipython",
    "version": 3
   },
   "file_extension": ".py",
   "mimetype": "text/x-python",
   "name": "python",
   "nbconvert_exporter": "python",
   "pygments_lexer": "ipython3",
   "version": "3.10.9"
  }
 },
 "nbformat": 4,
 "nbformat_minor": 5
}
