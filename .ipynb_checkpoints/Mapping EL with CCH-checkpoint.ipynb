{
 "cells": [
  {
   "cell_type": "code",
   "execution_count": 119,
   "id": "5faa4fa2",
   "metadata": {
    "scrolled": true
   },
   "outputs": [
    {
     "name": "stderr",
     "output_type": "stream",
     "text": [
      "C:\\Users\\tomda\\AppData\\Local\\Temp\\ipykernel_31828\\235906599.py:13: UserWarning: pandas only supports SQLAlchemy connectable (engine/connection) or database string URI or sqlite3 DBAPI2 connection. Other DBAPI2 objects are not tested. Please consider using SQLAlchemy.\n",
      "  sql = pd.read_sql_query(query, connection)\n"
     ]
    },
    {
     "ename": "PermissionError",
     "evalue": "[Errno 13] Permission denied: 'result_last.csv'",
     "output_type": "error",
     "traceback": [
      "\u001b[1;31m---------------------------------------------------------------------------\u001b[0m",
      "\u001b[1;31mPermissionError\u001b[0m                           Traceback (most recent call last)",
      "Cell \u001b[1;32mIn[119], line 89\u001b[0m\n\u001b[0;32m     87\u001b[0m     list_column\u001b[38;5;241m.\u001b[39mappend(\u001b[38;5;124m'\u001b[39m\u001b[38;5;124mStatus \u001b[39m\u001b[38;5;124m'\u001b[39m \u001b[38;5;241m+\u001b[39m h)\n\u001b[0;32m     88\u001b[0m result_last \u001b[38;5;241m=\u001b[39m result_last[list_column]\n\u001b[1;32m---> 89\u001b[0m \u001b[43mresult_last\u001b[49m\u001b[38;5;241;43m.\u001b[39;49m\u001b[43mto_csv\u001b[49m\u001b[43m(\u001b[49m\u001b[38;5;124;43m'\u001b[39;49m\u001b[38;5;124;43mresult_last.csv\u001b[39;49m\u001b[38;5;124;43m'\u001b[39;49m\u001b[43m)\u001b[49m\n",
      "File \u001b[1;32m~\\AppData\\Local\\Programs\\Python\\Python310\\lib\\site-packages\\pandas\\core\\generic.py:3772\u001b[0m, in \u001b[0;36mNDFrame.to_csv\u001b[1;34m(self, path_or_buf, sep, na_rep, float_format, columns, header, index, index_label, mode, encoding, compression, quoting, quotechar, lineterminator, chunksize, date_format, doublequote, escapechar, decimal, errors, storage_options)\u001b[0m\n\u001b[0;32m   3761\u001b[0m df \u001b[38;5;241m=\u001b[39m \u001b[38;5;28mself\u001b[39m \u001b[38;5;28;01mif\u001b[39;00m \u001b[38;5;28misinstance\u001b[39m(\u001b[38;5;28mself\u001b[39m, ABCDataFrame) \u001b[38;5;28;01melse\u001b[39;00m \u001b[38;5;28mself\u001b[39m\u001b[38;5;241m.\u001b[39mto_frame()\n\u001b[0;32m   3763\u001b[0m formatter \u001b[38;5;241m=\u001b[39m DataFrameFormatter(\n\u001b[0;32m   3764\u001b[0m     frame\u001b[38;5;241m=\u001b[39mdf,\n\u001b[0;32m   3765\u001b[0m     header\u001b[38;5;241m=\u001b[39mheader,\n\u001b[1;32m   (...)\u001b[0m\n\u001b[0;32m   3769\u001b[0m     decimal\u001b[38;5;241m=\u001b[39mdecimal,\n\u001b[0;32m   3770\u001b[0m )\n\u001b[1;32m-> 3772\u001b[0m \u001b[38;5;28;01mreturn\u001b[39;00m \u001b[43mDataFrameRenderer\u001b[49m\u001b[43m(\u001b[49m\u001b[43mformatter\u001b[49m\u001b[43m)\u001b[49m\u001b[38;5;241;43m.\u001b[39;49m\u001b[43mto_csv\u001b[49m\u001b[43m(\u001b[49m\n\u001b[0;32m   3773\u001b[0m \u001b[43m    \u001b[49m\u001b[43mpath_or_buf\u001b[49m\u001b[43m,\u001b[49m\n\u001b[0;32m   3774\u001b[0m \u001b[43m    \u001b[49m\u001b[43mlineterminator\u001b[49m\u001b[38;5;241;43m=\u001b[39;49m\u001b[43mlineterminator\u001b[49m\u001b[43m,\u001b[49m\n\u001b[0;32m   3775\u001b[0m \u001b[43m    \u001b[49m\u001b[43msep\u001b[49m\u001b[38;5;241;43m=\u001b[39;49m\u001b[43msep\u001b[49m\u001b[43m,\u001b[49m\n\u001b[0;32m   3776\u001b[0m \u001b[43m    \u001b[49m\u001b[43mencoding\u001b[49m\u001b[38;5;241;43m=\u001b[39;49m\u001b[43mencoding\u001b[49m\u001b[43m,\u001b[49m\n\u001b[0;32m   3777\u001b[0m \u001b[43m    \u001b[49m\u001b[43merrors\u001b[49m\u001b[38;5;241;43m=\u001b[39;49m\u001b[43merrors\u001b[49m\u001b[43m,\u001b[49m\n\u001b[0;32m   3778\u001b[0m \u001b[43m    \u001b[49m\u001b[43mcompression\u001b[49m\u001b[38;5;241;43m=\u001b[39;49m\u001b[43mcompression\u001b[49m\u001b[43m,\u001b[49m\n\u001b[0;32m   3779\u001b[0m \u001b[43m    \u001b[49m\u001b[43mquoting\u001b[49m\u001b[38;5;241;43m=\u001b[39;49m\u001b[43mquoting\u001b[49m\u001b[43m,\u001b[49m\n\u001b[0;32m   3780\u001b[0m \u001b[43m    \u001b[49m\u001b[43mcolumns\u001b[49m\u001b[38;5;241;43m=\u001b[39;49m\u001b[43mcolumns\u001b[49m\u001b[43m,\u001b[49m\n\u001b[0;32m   3781\u001b[0m \u001b[43m    \u001b[49m\u001b[43mindex_label\u001b[49m\u001b[38;5;241;43m=\u001b[39;49m\u001b[43mindex_label\u001b[49m\u001b[43m,\u001b[49m\n\u001b[0;32m   3782\u001b[0m \u001b[43m    \u001b[49m\u001b[43mmode\u001b[49m\u001b[38;5;241;43m=\u001b[39;49m\u001b[43mmode\u001b[49m\u001b[43m,\u001b[49m\n\u001b[0;32m   3783\u001b[0m \u001b[43m    \u001b[49m\u001b[43mchunksize\u001b[49m\u001b[38;5;241;43m=\u001b[39;49m\u001b[43mchunksize\u001b[49m\u001b[43m,\u001b[49m\n\u001b[0;32m   3784\u001b[0m \u001b[43m    \u001b[49m\u001b[43mquotechar\u001b[49m\u001b[38;5;241;43m=\u001b[39;49m\u001b[43mquotechar\u001b[49m\u001b[43m,\u001b[49m\n\u001b[0;32m   3785\u001b[0m \u001b[43m    \u001b[49m\u001b[43mdate_format\u001b[49m\u001b[38;5;241;43m=\u001b[39;49m\u001b[43mdate_format\u001b[49m\u001b[43m,\u001b[49m\n\u001b[0;32m   3786\u001b[0m \u001b[43m    \u001b[49m\u001b[43mdoublequote\u001b[49m\u001b[38;5;241;43m=\u001b[39;49m\u001b[43mdoublequote\u001b[49m\u001b[43m,\u001b[49m\n\u001b[0;32m   3787\u001b[0m \u001b[43m    \u001b[49m\u001b[43mescapechar\u001b[49m\u001b[38;5;241;43m=\u001b[39;49m\u001b[43mescapechar\u001b[49m\u001b[43m,\u001b[49m\n\u001b[0;32m   3788\u001b[0m \u001b[43m    \u001b[49m\u001b[43mstorage_options\u001b[49m\u001b[38;5;241;43m=\u001b[39;49m\u001b[43mstorage_options\u001b[49m\u001b[43m,\u001b[49m\n\u001b[0;32m   3789\u001b[0m \u001b[43m\u001b[49m\u001b[43m)\u001b[49m\n",
      "File \u001b[1;32m~\\AppData\\Local\\Programs\\Python\\Python310\\lib\\site-packages\\pandas\\io\\formats\\format.py:1186\u001b[0m, in \u001b[0;36mDataFrameRenderer.to_csv\u001b[1;34m(self, path_or_buf, encoding, sep, columns, index_label, mode, compression, quoting, quotechar, lineterminator, chunksize, date_format, doublequote, escapechar, errors, storage_options)\u001b[0m\n\u001b[0;32m   1165\u001b[0m     created_buffer \u001b[38;5;241m=\u001b[39m \u001b[38;5;28;01mFalse\u001b[39;00m\n\u001b[0;32m   1167\u001b[0m csv_formatter \u001b[38;5;241m=\u001b[39m CSVFormatter(\n\u001b[0;32m   1168\u001b[0m     path_or_buf\u001b[38;5;241m=\u001b[39mpath_or_buf,\n\u001b[0;32m   1169\u001b[0m     lineterminator\u001b[38;5;241m=\u001b[39mlineterminator,\n\u001b[1;32m   (...)\u001b[0m\n\u001b[0;32m   1184\u001b[0m     formatter\u001b[38;5;241m=\u001b[39m\u001b[38;5;28mself\u001b[39m\u001b[38;5;241m.\u001b[39mfmt,\n\u001b[0;32m   1185\u001b[0m )\n\u001b[1;32m-> 1186\u001b[0m \u001b[43mcsv_formatter\u001b[49m\u001b[38;5;241;43m.\u001b[39;49m\u001b[43msave\u001b[49m\u001b[43m(\u001b[49m\u001b[43m)\u001b[49m\n\u001b[0;32m   1188\u001b[0m \u001b[38;5;28;01mif\u001b[39;00m created_buffer:\n\u001b[0;32m   1189\u001b[0m     \u001b[38;5;28;01massert\u001b[39;00m \u001b[38;5;28misinstance\u001b[39m(path_or_buf, StringIO)\n",
      "File \u001b[1;32m~\\AppData\\Local\\Programs\\Python\\Python310\\lib\\site-packages\\pandas\\io\\formats\\csvs.py:240\u001b[0m, in \u001b[0;36mCSVFormatter.save\u001b[1;34m(self)\u001b[0m\n\u001b[0;32m    236\u001b[0m \u001b[38;5;250m\u001b[39m\u001b[38;5;124;03m\"\"\"\u001b[39;00m\n\u001b[0;32m    237\u001b[0m \u001b[38;5;124;03mCreate the writer & save.\u001b[39;00m\n\u001b[0;32m    238\u001b[0m \u001b[38;5;124;03m\"\"\"\u001b[39;00m\n\u001b[0;32m    239\u001b[0m \u001b[38;5;66;03m# apply compression and byte/text conversion\u001b[39;00m\n\u001b[1;32m--> 240\u001b[0m \u001b[38;5;28;01mwith\u001b[39;00m \u001b[43mget_handle\u001b[49m\u001b[43m(\u001b[49m\n\u001b[0;32m    241\u001b[0m \u001b[43m    \u001b[49m\u001b[38;5;28;43mself\u001b[39;49m\u001b[38;5;241;43m.\u001b[39;49m\u001b[43mfilepath_or_buffer\u001b[49m\u001b[43m,\u001b[49m\n\u001b[0;32m    242\u001b[0m \u001b[43m    \u001b[49m\u001b[38;5;28;43mself\u001b[39;49m\u001b[38;5;241;43m.\u001b[39;49m\u001b[43mmode\u001b[49m\u001b[43m,\u001b[49m\n\u001b[0;32m    243\u001b[0m \u001b[43m    \u001b[49m\u001b[43mencoding\u001b[49m\u001b[38;5;241;43m=\u001b[39;49m\u001b[38;5;28;43mself\u001b[39;49m\u001b[38;5;241;43m.\u001b[39;49m\u001b[43mencoding\u001b[49m\u001b[43m,\u001b[49m\n\u001b[0;32m    244\u001b[0m \u001b[43m    \u001b[49m\u001b[43merrors\u001b[49m\u001b[38;5;241;43m=\u001b[39;49m\u001b[38;5;28;43mself\u001b[39;49m\u001b[38;5;241;43m.\u001b[39;49m\u001b[43merrors\u001b[49m\u001b[43m,\u001b[49m\n\u001b[0;32m    245\u001b[0m \u001b[43m    \u001b[49m\u001b[43mcompression\u001b[49m\u001b[38;5;241;43m=\u001b[39;49m\u001b[38;5;28;43mself\u001b[39;49m\u001b[38;5;241;43m.\u001b[39;49m\u001b[43mcompression\u001b[49m\u001b[43m,\u001b[49m\n\u001b[0;32m    246\u001b[0m \u001b[43m    \u001b[49m\u001b[43mstorage_options\u001b[49m\u001b[38;5;241;43m=\u001b[39;49m\u001b[38;5;28;43mself\u001b[39;49m\u001b[38;5;241;43m.\u001b[39;49m\u001b[43mstorage_options\u001b[49m\u001b[43m,\u001b[49m\n\u001b[0;32m    247\u001b[0m \u001b[43m\u001b[49m\u001b[43m)\u001b[49m \u001b[38;5;28;01mas\u001b[39;00m handles:\n\u001b[0;32m    248\u001b[0m     \u001b[38;5;66;03m# Note: self.encoding is irrelevant here\u001b[39;00m\n\u001b[0;32m    249\u001b[0m     \u001b[38;5;28mself\u001b[39m\u001b[38;5;241m.\u001b[39mwriter \u001b[38;5;241m=\u001b[39m csvlib\u001b[38;5;241m.\u001b[39mwriter(\n\u001b[0;32m    250\u001b[0m         handles\u001b[38;5;241m.\u001b[39mhandle,\n\u001b[0;32m    251\u001b[0m         lineterminator\u001b[38;5;241m=\u001b[39m\u001b[38;5;28mself\u001b[39m\u001b[38;5;241m.\u001b[39mlineterminator,\n\u001b[1;32m   (...)\u001b[0m\n\u001b[0;32m    256\u001b[0m         quotechar\u001b[38;5;241m=\u001b[39m\u001b[38;5;28mself\u001b[39m\u001b[38;5;241m.\u001b[39mquotechar,\n\u001b[0;32m    257\u001b[0m     )\n\u001b[0;32m    259\u001b[0m     \u001b[38;5;28mself\u001b[39m\u001b[38;5;241m.\u001b[39m_save()\n",
      "File \u001b[1;32m~\\AppData\\Local\\Programs\\Python\\Python310\\lib\\site-packages\\pandas\\io\\common.py:859\u001b[0m, in \u001b[0;36mget_handle\u001b[1;34m(path_or_buf, mode, encoding, compression, memory_map, is_text, errors, storage_options)\u001b[0m\n\u001b[0;32m    854\u001b[0m \u001b[38;5;28;01melif\u001b[39;00m \u001b[38;5;28misinstance\u001b[39m(handle, \u001b[38;5;28mstr\u001b[39m):\n\u001b[0;32m    855\u001b[0m     \u001b[38;5;66;03m# Check whether the filename is to be opened in binary mode.\u001b[39;00m\n\u001b[0;32m    856\u001b[0m     \u001b[38;5;66;03m# Binary mode does not support 'encoding' and 'newline'.\u001b[39;00m\n\u001b[0;32m    857\u001b[0m     \u001b[38;5;28;01mif\u001b[39;00m ioargs\u001b[38;5;241m.\u001b[39mencoding \u001b[38;5;129;01mand\u001b[39;00m \u001b[38;5;124m\"\u001b[39m\u001b[38;5;124mb\u001b[39m\u001b[38;5;124m\"\u001b[39m \u001b[38;5;129;01mnot\u001b[39;00m \u001b[38;5;129;01min\u001b[39;00m ioargs\u001b[38;5;241m.\u001b[39mmode:\n\u001b[0;32m    858\u001b[0m         \u001b[38;5;66;03m# Encoding\u001b[39;00m\n\u001b[1;32m--> 859\u001b[0m         handle \u001b[38;5;241m=\u001b[39m \u001b[38;5;28;43mopen\u001b[39;49m\u001b[43m(\u001b[49m\n\u001b[0;32m    860\u001b[0m \u001b[43m            \u001b[49m\u001b[43mhandle\u001b[49m\u001b[43m,\u001b[49m\n\u001b[0;32m    861\u001b[0m \u001b[43m            \u001b[49m\u001b[43mioargs\u001b[49m\u001b[38;5;241;43m.\u001b[39;49m\u001b[43mmode\u001b[49m\u001b[43m,\u001b[49m\n\u001b[0;32m    862\u001b[0m \u001b[43m            \u001b[49m\u001b[43mencoding\u001b[49m\u001b[38;5;241;43m=\u001b[39;49m\u001b[43mioargs\u001b[49m\u001b[38;5;241;43m.\u001b[39;49m\u001b[43mencoding\u001b[49m\u001b[43m,\u001b[49m\n\u001b[0;32m    863\u001b[0m \u001b[43m            \u001b[49m\u001b[43merrors\u001b[49m\u001b[38;5;241;43m=\u001b[39;49m\u001b[43merrors\u001b[49m\u001b[43m,\u001b[49m\n\u001b[0;32m    864\u001b[0m \u001b[43m            \u001b[49m\u001b[43mnewline\u001b[49m\u001b[38;5;241;43m=\u001b[39;49m\u001b[38;5;124;43m\"\u001b[39;49m\u001b[38;5;124;43m\"\u001b[39;49m\u001b[43m,\u001b[49m\n\u001b[0;32m    865\u001b[0m \u001b[43m        \u001b[49m\u001b[43m)\u001b[49m\n\u001b[0;32m    866\u001b[0m     \u001b[38;5;28;01melse\u001b[39;00m:\n\u001b[0;32m    867\u001b[0m         \u001b[38;5;66;03m# Binary mode\u001b[39;00m\n\u001b[0;32m    868\u001b[0m         handle \u001b[38;5;241m=\u001b[39m \u001b[38;5;28mopen\u001b[39m(handle, ioargs\u001b[38;5;241m.\u001b[39mmode)\n",
      "\u001b[1;31mPermissionError\u001b[0m: [Errno 13] Permission denied: 'result_last.csv'"
     ]
    }
   ],
   "source": [
    "from glob import glob\n",
    "import pyodbc\n",
    "import re\n",
    "import pandas as pd\n",
    "#database\n",
    "server = 'TOM'\n",
    "database = 'CCH_HSC_08.22.23'\n",
    "username = 'TOM'\n",
    "password = 'Silversea2022@'\n",
    "connection_string = f\"DRIVER=ODBC Driver 17 for SQL Server;SERVER={server};DATABASE={database};UID={username};PWD={password}\"\n",
    "connection = pyodbc.connect(connection_string)\n",
    "query = \" select ClientIdSubId , ClientId AS [Client #] , ClientGroupName [Client Group], ClientSortName [Client Name], CONCAT_WS(' ', AddressLine1, AddressLine2, AddressLine3) Address ,CityName [City] ,StateProvinceCode [State] ,PostalCode [ZipCode] ,IIF(LEN(C.FiscalPeriod) = 0 or C.FiscalPeriod is null, null, LEFT(C.FiscalPeriod,2)) [Year End] ,[Eng Ltr Fees if Included] AS [Eng Ltr Fees if Inlcluded] ,[Tax Engagement Letter Type] AS [Tax Eng Ltr Type] ,[States/Localities] AS [States/Localities] ,[Changes in States/Localities] AS [Changes in States/Localities] ,[AA Engagement Letter Type] AS [AA Eng Ltr Type] ,[AA Financial Framework (FF)] AS [AA Financial Framework (FF)] ,[AA Departure from FF?] AS [AA Departure from FF?] ,[AA Not Independent?] AS [AA Not Independent?] ,[Eng Ltr Contact] AS [Eng Ltr Contact] ,[Eng Ltr Contact Email] AS [Eng Ltr Contact Email] ,[OS Client] AS [OS Client] ,[CAL Contact] AS [CAL Contact] ,[CAL Contact Email] AS [CAL Contact Email] ,[CAL Contact 2] AS [CAL Contact 2] ,[CAL Contact Email 2] AS [CAL Contact Email 2] ,[Depreciation Schedule Sent w/ CAL?] AS [Depreciation Schedule Sent w/ CAL?] ,[Notes/Comments] AS [Other Comments, Changes, etc.] ,StaffName AS [Primary] from CLIENT C LEFT JOIN ( \tselect ClientIdent, ClientGroupName from CLIENTGROUP \twhere FinancialReportingGroupFlag = 't' ) CG ON CG.ClientIdent = C.ClientIdent LEFT JOIN ( \tselect ReferenceIdent \t, IIF(AddressLine1='', null, AddressLine1) AddressLine1 \t, IIF(AddressLine2='', null, AddressLine2) AddressLine2 \t, IIF(AddressLine3='', null, AddressLine3) AddressLine3 \t, IIF(CityName='', null, CityName) CityName \t, IIF(StateProvinceCode='', null, StateProvinceCode) StateProvinceCode \t, IIF(PostalCode='', null, PostalCode) PostalCode \tfrom CLIENTADDRESS \tWHERE PrimaryAddressFlag = 't' \tand ReferenceIdentType = 'ClientIntID' ) CA ON CA.ReferenceIdent  = C.ClientIdent LEFT JOIN ( \tselect * from CLIENTPHONE \tWHERE PrimaryPhoneFlag = 't' \tand ReferenceIdentType = 'ClientIntID' \tand PhoneNumber <> '' ) CP ON CP.ReferenceIdent  = C.ClientIdent LEFT JOIN ( \tselect * from CLIENTEMAIL \tWHERE PrimaryEmailAddressFlag = 't' \tand ReferenceIdentType = 'ClientIntID' \tand EmailAddress <> '' ) CE ON CE.ReferenceIdent  = C.ClientIdent LEFT JOIN ( select * FROM ( \tselect ClientIdent, IIF(ClientCustomFieldValueDescription='',null,ClientCustomFieldValueDescription) ClientCustomFieldValueDescription,FirmCustomFieldLabel FROM CLIENTCUSTOMFIELD \t) T1 \tPIVOT \t( \tMAX(ClientCustomFieldValueDescription) FOR FirmCustomFieldLabel \tIN ( [SIC], [Industry Team], [test], [Eng Ltr Contact Email], [County], [CAL Contact 2], [OS Client], [Eng Ltr Fees if Included], [CAL Contact], [CAL Contact Email 2], [Referred by], [Prior_NAICS], [AA Not Independent?], [Top Ten], [AA Financial Framework (FF)], [CAL Contact Email], [Tax Engagement Letter Type], [AA Engagement Letter Type], [Notes/Comments], [Annual Revenue], [Eng Ltr Contact], [AA Departure from FF?], [States/Localities], [OS Engagement Type], [# of Employees Here], [Industry SIC Code], [Changes in States/Localities], [Depreciation Schedule Sent w/ CAL?], [Number of Employees], [Prior_Entity], [Plan Name (EB Audit Eng Only)], [Custodian (EB Audit Eng Only)], [Referral Source], [Trade Name], [Client Sales]) ) PV1 ) CC ON CC.ClientIdent = C.ClientIdent LEFT JOIN ( SELECT ClientIdent, StaffName FROM CLIENTCRS LEFT JOIN STAFF S ON S.StaffIdent = CLIENTCRS.StaffIdent WHERE FirmClientStaffAssignmentName = 'Primary' ) CRS ON CRS.ClientIdent = C.ClientIdent \"\n",
    "sql = pd.read_sql_query(query, connection)\n",
    "def convert_float_to_int_string(value):\n",
    "    if isinstance(value, float):\n",
    "        int_value = int(value)\n",
    "        if value == int_value:\n",
    "            return str(int_value)\n",
    "    return str(value)\n",
    "\n",
    "\n",
    "#data from excel\n",
    "paths = sorted(glob(r'./New Data/*.xlsm'))\n",
    "li = []\n",
    "for path in paths:\n",
    "    df = pd.read_excel(path)\n",
    "    df['source'] = path.split('\\\\')[1]\n",
    "    li.append(df)\n",
    "    df = pd.concat(li, ignore_index=True, axis=0)\n",
    "df['Client #'] = df['Client #'].astype(str)\n",
    "sql['Client #'] = sql['Client #'].astype(str)\n",
    "sql['Client #'] = sql['Client #'].astype(str)\n",
    "sql['Depreciation Schedule Sent w/ CAL?'] = sql['Depreciation Schedule Sent w/ CAL?'].replace('None','',inplace=True)\n",
    "connection.close()\n",
    "#replace none or nan ''\n",
    "for column in df.columns:\n",
    "    df[column].fillna('', inplace=True)\n",
    "for column in sql.columns:\n",
    "    sql[column].fillna('', inplace=True)\n",
    "\n",
    "sql['Year End'] = sql['Year End'].apply(convert_float_to_int_string)\n",
    "df['Year End'] = df['Year End'].apply(convert_float_to_int_string)\n",
    "sql = sql.astype(str)\n",
    "df = df.astype(str)\n",
    "df = df.applymap(convert_to_str)\n",
    "sql = sql.applymap(convert_to_str)\n",
    "new_column_names = ['SQL_' + col for col in sql.columns]\n",
    "sql.rename(columns=dict(zip(sql.columns, new_column_names)), inplace=True)\n",
    "\n",
    "list_column_mapping_excel = ['Client Group', 'Client Name', 'Address', 'City', 'State',\n",
    "       'ZipCode', 'Year End', 'Eng Ltr Fees if Inlcluded', 'Tax Eng Ltr Type',\n",
    "       'States/Localities', 'Changes in States/Localities', 'AA Eng Ltr Type',\n",
    "       'AA Financial Framework (FF)', 'AA Departure from FF?',\n",
    "       'AA Not Independent?', 'Eng Ltr Contact', 'Eng Ltr Contact Email',\n",
    "       'OS Client', 'CAL Contact', 'CAL Contact Email', 'CAL Contact 2',\n",
    "       'CAL Contact Email 2', 'Depreciation Schedule Sent w/ CAL?',\n",
    "       'Other Comments, Changes, etc.', 'Primary']\n",
    "result = pd.merge(df, sql, how='left', left_on='Client #', right_on='SQL_Client #')\n",
    "result = result.reset_index()\n",
    "\n",
    "\n",
    "\n",
    "D= {}\n",
    "for i in result.index:\n",
    "    D[result.at[i,'index']] = []\n",
    "    for j in list_column_mapping_excel:\n",
    "        col_sql = 'SQL_' + j\n",
    "        value_j = re.sub(r'[^a-zA-Z0-9]', '', str(result.at[i, j]).strip().lower())\n",
    "        value_col_sql = re.sub(r'[^a-zA-Z0-9]', '', str(result.at[i, col_sql]).strip().lower())\n",
    "        if value_j == value_col_sql:\n",
    "#         if str(result.at[i,j]).strip().lower() == str(result.at[i,col_sql]).strip().lower():\n",
    "            D[result.at[i,'index']].append('')\n",
    "        else:\n",
    "            D[result.at[i,'index']].append(j)\n",
    "mapping = pd.DataFrame.from_dict(D, orient='index')\n",
    "mapping.reset_index(inplace=True)\n",
    "old_cols_name = list(range(25))\n",
    "new_cols_name = [\"Status \" + column for column in list_column_mapping_excel]\n",
    "mapping.rename(columns=dict(zip(old_cols_name, new_cols_name)), inplace=True)\n",
    "mapping\n",
    "result_last = pd.merge(result, mapping, how='left', left_on='index', right_on='index')\n",
    "list_column = ['Client #', 'SQL_ClientIdSubId']\n",
    "for k in list_column_mapping_excel:\n",
    "    list_column.append(k)\n",
    "    list_column.append('SQL_' + k)\n",
    "for h in list_column_mapping_excel:\n",
    "    list_column.append('Status ' + h)\n",
    "result_last = result_last[list_column]\n",
    "result_last.to_csv('result_last.csv')"
   ]
  },
  {
   "cell_type": "code",
   "execution_count": 98,
   "id": "5f583406",
   "metadata": {},
   "outputs": [],
   "source": []
  },
  {
   "cell_type": "code",
   "execution_count": null,
   "id": "08b737ab",
   "metadata": {},
   "outputs": [],
   "source": []
  }
 ],
 "metadata": {
  "kernelspec": {
   "display_name": "Python 3 (ipykernel)",
   "language": "python",
   "name": "python3"
  },
  "language_info": {
   "codemirror_mode": {
    "name": "ipython",
    "version": 3
   },
   "file_extension": ".py",
   "mimetype": "text/x-python",
   "name": "python",
   "nbconvert_exporter": "python",
   "pygments_lexer": "ipython3",
   "version": "3.10.9"
  }
 },
 "nbformat": 4,
 "nbformat_minor": 5
}
